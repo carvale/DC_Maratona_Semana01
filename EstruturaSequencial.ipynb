{
 "cells": [
  {
   "cell_type": "markdown",
   "metadata": {},
   "source": [
    "# EstruturaSequencial"
   ]
  },
  {
   "cell_type": "code",
   "execution_count": 1,
   "metadata": {},
   "outputs": [
    {
     "name": "stdout",
     "output_type": "stream",
     "text": [
      "Alo Mundo\n"
     ]
    }
   ],
   "source": [
    "#Faça um Programa que mostre a mensagem \"Alo mundo\" na tela.\n",
    "print (\"Alo Mundo\")"
   ]
  },
  {
   "cell_type": "code",
   "execution_count": 2,
   "metadata": {},
   "outputs": [
    {
     "name": "stdout",
     "output_type": "stream",
     "text": [
      "Digite o numero1234\n",
      "O numero informado foi  1234\n"
     ]
    }
   ],
   "source": [
    "#Faça um Programa que peça um número e então mostre a mensagem O número informado foi [número].\n",
    "numero = input (\"Digite o numero\")\n",
    "print (\"O numero informado foi \", numero)\n"
   ]
  },
  {
   "cell_type": "code",
   "execution_count": 3,
   "metadata": {},
   "outputs": [
    {
     "name": "stdout",
     "output_type": "stream",
     "text": [
      "Digite o numero1:12\n",
      "Digite o numero2:124.8\n",
      "Soma=  136.8\n"
     ]
    }
   ],
   "source": [
    "#Faça um Programa que peça dois números e imprima a soma.\n",
    "numero1 = input (\"Digite o numero1:\")\n",
    "numero2 = input (\"Digite o numero2:\")\n",
    "print (\"Soma= \", float(numero1)+float(numero2))\n"
   ]
  },
  {
   "cell_type": "code",
   "execution_count": 24,
   "metadata": {},
   "outputs": [
    {
     "name": "stdout",
     "output_type": "stream",
     "text": [
      "Digite a nota do Bimestre 1:\n",
      "70\n",
      "Digite a nota do Bimestre 2:\n",
      "76\n",
      "Digite a nota do Bimestre 3:\n",
      "80\n",
      "Digite a nota do Bimestre 4:\n",
      "60\n",
      "Media =  71.5\n"
     ]
    }
   ],
   "source": [
    "#Faça um Programa que peça as 4 notas bimestrais e mostre a média.\n",
    "soma = 0.0\n",
    "for i in range(1,5):\n",
    "    print (\"Digite a nota do Bimestre \"+str(i)+\":\")\n",
    "    numero = input()\n",
    "    soma=soma + float(numero)\n",
    "print(\"Media = \",soma/4)\n",
    "    \n"
   ]
  },
  {
   "cell_type": "code",
   "execution_count": 1,
   "metadata": {},
   "outputs": [
    {
     "name": "stdout",
     "output_type": "stream",
     "text": [
      "Digite o numero(metro)123\n",
      "Em   123.0  tem-se 12300.0 centimetros\n"
     ]
    }
   ],
   "source": [
    "#Faça um Programa que converta metros para centímetros.\n",
    "numero = input (\"Digite o numero(metro)\")\n",
    "print (\"Em  \", float(numero), \" tem-se\", float(numero)*100.0, \"centimetros\")"
   ]
  },
  {
   "cell_type": "code",
   "execution_count": 2,
   "metadata": {},
   "outputs": [
    {
     "name": "stdout",
     "output_type": "stream",
     "text": [
      "Digite o raio de um círculo:1.0\n",
      "Área do circulo é 3.14\n"
     ]
    }
   ],
   "source": [
    "#Faça um Programa que peça o raio de um círculo, calcule e mostre sua área.\n",
    "from math import pi\n",
    "from math import pow\n",
    "numero = 0.0\n",
    "numero = input (\"Digite o raio de um círculo:\")\n",
    "area = pi*pow(float(numero),2)\n",
    "print (\"Área do circulo é %.2f\"%area )"
   ]
  },
  {
   "cell_type": "code",
   "execution_count": null,
   "metadata": {},
   "outputs": [],
   "source": []
  }
 ],
 "metadata": {
  "kernelspec": {
   "display_name": "Python 3",
   "language": "python",
   "name": "python3"
  },
  "language_info": {
   "codemirror_mode": {
    "name": "ipython",
    "version": 3
   },
   "file_extension": ".py",
   "mimetype": "text/x-python",
   "name": "python",
   "nbconvert_exporter": "python",
   "pygments_lexer": "ipython3",
   "version": "3.7.0"
  }
 },
 "nbformat": 4,
 "nbformat_minor": 2
}
